{
 "cells": [
  {
   "cell_type": "markdown",
   "id": "12708d3f-2fd5-4a77-99c8-54a029dd3b51",
   "metadata": {},
   "source": [
    "Las funciones\n",
    "\n",
    "Son fragmentos de código que se pueden ejecutar múltiples veces. Pueden recibir y devolver información para comunicarse con el\n",
    "proceso principal.\n",
    "\n",
    "Definición y llamada"
   ]
  },
  {
   "cell_type": "code",
   "execution_count": 1,
   "id": "a8ef0174-702f-4057-a438-da081efddb20",
   "metadata": {},
   "outputs": [
    {
     "name": "stdout",
     "output_type": "stream",
     "text": [
      "Hola! Este print se llama desde la función saludar()\n",
      "Hola! Este print se llama desde la función saludar()\n",
      "Hola! Este print se llama desde la función saludar()\n"
     ]
    }
   ],
   "source": [
    "def saludar():\n",
    "  print(\"Hola! Este print se llama desde la función saludar()\")\n",
    "saludar()\n",
    "saludar()\n",
    "saludar()"
   ]
  },
  {
   "cell_type": "markdown",
   "id": "fa8770fd-b80b-4852-b45b-5aff1f5722c4",
   "metadata": {},
   "source": [
    "Dentro de una función podemos utilizar variables y sentencias de control:"
   ]
  },
  {
   "cell_type": "code",
   "execution_count": 2,
   "id": "31c68670-f3b6-4bad-86f4-a74613cca20a",
   "metadata": {},
   "outputs": [
    {
     "name": "stdout",
     "output_type": "stream",
     "text": [
      "5 *0=0\n",
      "5 *1=5\n",
      "5 *2=10\n",
      "5 *3=15\n",
      "5 *4=20\n",
      "5 *5=25\n",
      "5 *6=30\n",
      "5 *7=35\n",
      "5 *8=40\n",
      "5 *9=45\n",
      "5 *10=50\n"
     ]
    }
   ],
   "source": [
    "def dibujar_tabla_del_5():\n",
    "  for i in range(11):\n",
    "   print(\"5 *{}={}\".format(i,i*5))\n",
    "dibujar_tabla_del_5()"
   ]
  },
  {
   "cell_type": "markdown",
   "id": "ffb4909f-44c9-443c-972f-2e7c45e5dba2",
   "metadata": {},
   "source": [
    "Ámbito de las variables"
   ]
  },
  {
   "cell_type": "markdown",
   "id": "4037ffc5-175c-45da-b5d7-318f400f5c6f",
   "metadata": {},
   "source": [
    "Una variable declarada en una función no existe en la función principal:"
   ]
  },
  {
   "cell_type": "code",
   "execution_count": 3,
   "id": "69e61f4b-526d-45f3-97c3-f9b9c7d2392d",
   "metadata": {},
   "outputs": [
    {
     "name": "stdout",
     "output_type": "stream",
     "text": [
      "El valor de n es:10\n",
      "El valor de n es: 10\n"
     ]
    }
   ],
   "source": [
    "def test():\n",
    " n=10\n",
    " print(\"El valor de n es:{}\".format(n))\n",
    " print(\"El valor de n es:\",n)\n",
    "test()"
   ]
  },
  {
   "cell_type": "code",
   "execution_count": 4,
   "id": "87f8e935-775f-4bc9-b928-953d5ca55b44",
   "metadata": {},
   "outputs": [
    {
     "ename": "NameError",
     "evalue": "name 'n' is not defined",
     "output_type": "error",
     "traceback": [
      "\u001b[31m---------------------------------------------------------------------------\u001b[39m",
      "\u001b[31mNameError\u001b[39m                                 Traceback (most recent call last)",
      "\u001b[36mCell\u001b[39m\u001b[36m \u001b[39m\u001b[32mIn[4]\u001b[39m\u001b[32m, line 1\u001b[39m\n\u001b[32m----> \u001b[39m\u001b[32m1\u001b[39m \u001b[38;5;28mprint\u001b[39m(\u001b[43mn\u001b[49m)\n",
      "\u001b[31mNameError\u001b[39m: name 'n' is not defined"
     ]
    }
   ],
   "source": [
    "print(n)"
   ]
  },
  {
   "cell_type": "markdown",
   "id": "b8c4562a-695b-44a1-ab44-cac44eaea40f",
   "metadata": {},
   "source": [
    "Sin embargo, una variable declarada fuera de la función (al mismo nivel), sí que es accesible desde la\n",
    "función:"
   ]
  },
  {
   "cell_type": "code",
   "execution_count": 6,
   "id": "5d23d6d5-eec6-49da-bbbc-0bb12854e390",
   "metadata": {},
   "outputs": [
    {
     "name": "stdout",
     "output_type": "stream",
     "text": [
      "10\n"
     ]
    }
   ],
   "source": [
    "m = 10\n",
    "def test():\n",
    " print(m)\n",
    "test()"
   ]
  },
  {
   "cell_type": "markdown",
   "id": "f3c473df-9ea4-4989-8e2f-4a1b44c3e199",
   "metadata": {},
   "source": [
    "Siempre que declaremos la variable antes de la ejecución, podemos acceder a ella desde dentro:"
   ]
  },
  {
   "cell_type": "code",
   "execution_count": 7,
   "id": "ad060039-0db4-47ca-8ec7-ca4d26da4b90",
   "metadata": {},
   "outputs": [
    {
     "name": "stdout",
     "output_type": "stream",
     "text": [
      "10\n"
     ]
    }
   ],
   "source": [
    "def test():\n",
    " print(l)\n",
    "#test()\n",
    "l=10\n",
    "test()"
   ]
  },
  {
   "cell_type": "markdown",
   "id": "de5d717c-a263-4175-8d8f-507f9716dca5",
   "metadata": {},
   "source": [
    "En el caso que declaremos de nuevo una variable en la función, se creará un copia de la misma que sólo\n",
    "funcionará dentro de la función."
   ]
  },
  {
   "cell_type": "markdown",
   "id": "5f3b75d2-d7e2-4ef4-a971-5eba85df3f99",
   "metadata": {},
   "source": [
    "Por tanto no podemos modificar una variable externa dentro de una función:"
   ]
  },
  {
   "cell_type": "code",
   "execution_count": 10,
   "id": "b2934132-575e-4428-81e1-a79081705b3d",
   "metadata": {},
   "outputs": [
    {
     "name": "stdout",
     "output_type": "stream",
     "text": [
      "5\n",
      "5\n",
      "10\n",
      "3\n"
     ]
    }
   ],
   "source": [
    "def test():\n",
    " o=5# variable que sólo existe dentro de la función\n",
    " print(o)\n",
    "test()\n",
    "\n",
    "o=10 # variable externa, no modificable\n",
    "test()\n",
    "def test1():\n",
    " o=3\n",
    " print(o)\n",
    "    \n",
    "print(o)\n",
    "test1()"
   ]
  },
  {
   "cell_type": "markdown",
   "id": "4ff4cc86-e116-4587-9e97-309591d529e8",
   "metadata": {},
   "source": [
    "La instrucción global"
   ]
  },
  {
   "cell_type": "markdown",
   "id": "8f3c0ef0-29dd-4107-acbe-e53de7722c3f",
   "metadata": {},
   "source": [
    "Para poder modificar una variable externa en la función, debemos indicar que es global de la siguiente forma:"
   ]
  },
  {
   "cell_type": "code",
   "execution_count": 11,
   "id": "1dca6fa9-d63d-4b7e-a566-a60f249ea408",
   "metadata": {},
   "outputs": [
    {
     "name": "stdout",
     "output_type": "stream",
     "text": [
      "5\n",
      "5\n",
      "5\n"
     ]
    }
   ],
   "source": [
    "def test():\n",
    " global o # variable que hace re ferencia a la o externa\n",
    " o=5\n",
    " print(o)\n",
    "test()\n",
    "\n",
    "o=10\n",
    "test()\n",
    "print(o)"
   ]
  },
  {
   "cell_type": "code",
   "execution_count": null,
   "id": "10c8d031-63b9-4c03-b4ad-9623651e5442",
   "metadata": {},
   "outputs": [],
   "source": []
  }
 ],
 "metadata": {
  "kernelspec": {
   "display_name": "Python 3 (ipykernel)",
   "language": "python",
   "name": "python3"
  },
  "language_info": {
   "codemirror_mode": {
    "name": "ipython",
    "version": 3
   },
   "file_extension": ".py",
   "mimetype": "text/x-python",
   "name": "python",
   "nbconvert_exporter": "python",
   "pygments_lexer": "ipython3",
   "version": "3.13.2"
  }
 },
 "nbformat": 4,
 "nbformat_minor": 5
}
