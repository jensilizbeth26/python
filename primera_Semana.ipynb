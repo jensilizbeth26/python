{
 "cells": [
  {
   "cell_type": "code",
   "execution_count": 1,
   "id": "a7087f15",
   "metadata": {},
   "outputs": [],
   "source": [
    "num1 = 10\n",
    "num2 = 4"
   ]
  },
  {
   "cell_type": "code",
   "execution_count": 5,
   "id": "351113d7",
   "metadata": {},
   "outputs": [
    {
     "name": "stdout",
     "output_type": "stream",
     "text": [
      "La sumatoria del numero 1:  10 y numero 2:  4 es:  14\n"
     ]
    }
   ],
   "source": [
    "print(\"La sumatoria del numero 1: \",num1,\"y numero 2: \",num2,\"es: \",num1+num2)"
   ]
  },
  {
   "cell_type": "code",
   "execution_count": 7,
   "id": "03d1bbb3",
   "metadata": {},
   "outputs": [
    {
     "name": "stdout",
     "output_type": "stream",
     "text": [
      "La sustraccion del numero 2:  4 y numero 1:  10 es:  -6\n"
     ]
    }
   ],
   "source": [
    "print(\"La sustraccion del numero 2: \",num2,\"y numero 1: \",num1,\"es: \",num2-num1)"
   ]
  },
  {
   "cell_type": "code",
   "execution_count": 8,
   "id": "e62a6241",
   "metadata": {},
   "outputs": [
    {
     "name": "stdout",
     "output_type": "stream",
     "text": [
      "La multiplicacion del numero 1:  10 y numero 2:  4 es:  40\n"
     ]
    }
   ],
   "source": [
    "print(\"La multiplicacion del numero 1: \",num1,\"y numero 2: \",num2,\"es: \",num1*num2)"
   ]
  },
  {
   "cell_type": "code",
   "execution_count": 9,
   "id": "464166fd",
   "metadata": {},
   "outputs": [
    {
     "name": "stdout",
     "output_type": "stream",
     "text": [
      "La divisio del numero 1:  10 y numero 2:  4 es:  2.5\n"
     ]
    }
   ],
   "source": [
    "print(\"La division del numero 1: \",num1,\"y numero 2: \",num2,\"es: \",num1/num2)"
   ]
  },
  {
   "cell_type": "code",
   "execution_count": 1,
   "id": "2bad5a7e",
   "metadata": {},
   "outputs": [
    {
     "name": "stdout",
     "output_type": "stream",
     "text": [
      "No se puede dividir entre 0\n"
     ]
    }
   ],
   "source": [
    "num1 = 10\n",
    "num2 =0\n",
    "if num2 == 0:\n",
    "    print(\"No se puede dividir entre 0\")\n",
    "else:\n",
    "    print(\"La division del numero 1: \",num1,\"y numero 2: \",num2,\"es: \",num1/num2)\n",
    "    "
   ]
  },
  {
   "cell_type": "markdown",
   "id": "5d0e4e8a",
   "metadata": {},
   "source": [
    "X = -b +-√(b²-4ac)/2a"
   ]
  },
  {
   "cell_type": "code",
   "execution_count": 29,
   "id": "2a3b0d68",
   "metadata": {},
   "outputs": [
    {
     "name": "stdout",
     "output_type": "stream",
     "text": [
      "Escriba AX²1\n",
      "Escriba Bx11\n",
      "Escriba c10\n",
      "El valor de x1 es: -6.5\n",
      "El valor de x2 es: -15.5\n"
     ]
    }
   ],
   "source": [
    "import math\n",
    "a = float(input(\"Escriba AX² \"))\n",
    "b = float(input(\"Escriba Bx \"))\n",
    "c= float(input(\"Escriba c \"))\n",
    "\n",
    "\n",
    "\n",
    "x1 = -(b)+ math.sqrt(pow(b,2)-(4*a*c))/(2*a)\n",
    "x2 = -(b)- math.sqrt(pow(b,2)-(4*a*c))/(2*a)\n",
    "\n",
    "print(\"El valor de x1 es:\",x1)\n",
    "print(\"El valor de x2 es:\",x2)\n"
   ]
  },
  {
   "cell_type": "markdown",
   "id": "8189a326",
   "metadata": {},
   "source": [
    "Leer y Calcular el area de un rectangulo, sabiendo que el area de un rectangulo es: Base X Altura\n",
    "\n",
    "Leer y Calcular el area de un triangulo, sabiendo que el area de un triangulo es: (Base X Altura) / 2\n"
   ]
  },
  {
   "cell_type": "code",
   "execution_count": 1,
   "id": "b794e03f",
   "metadata": {},
   "outputs": [
    {
     "name": "stdout",
     "output_type": "stream",
     "text": [
      "Ingrese la Base del Rectangulo: 4\n",
      "Ingrese la Altura del Rectangulo: 15\n",
      "El area de un rectangulo es:  60\n"
     ]
    }
   ],
   "source": [
    "base = int(input(\"Ingrese la Base del Rectangulo: \"))\n",
    "altura = int(input(\"Ingrese la Altura del Rectangulo: \"))\n",
    "area = base * altura\n",
    "print(\"El area de un rectangulo es: \", area)"
   ]
  },
  {
   "cell_type": "code",
   "execution_count": 2,
   "id": "65aeb9e5",
   "metadata": {},
   "outputs": [
    {
     "name": "stdout",
     "output_type": "stream",
     "text": [
      "Ingrese la Base del Triangulo: 5\n",
      "Ingrese la Altura del Triangulo: 6\n",
      "El area de un rectangulo es:  15.0\n"
     ]
    }
   ],
   "source": [
    "base = int(input(\"Ingrese la Base del Triangulo: \"))\n",
    "altura = int(input(\"Ingrese la Altura del Triangulo: \"))\n",
    "area = (base * altura)/2\n",
    "print(\"El area de un rectangulo es: \", area)"
   ]
  },
  {
   "cell_type": "code",
   "execution_count": 1,
   "id": "fbe586cf",
   "metadata": {},
   "outputs": [
    {
     "name": "stdout",
     "output_type": "stream",
     "text": [
      "Horas Trabajadas por semana: 40\n",
      "Pago x Hora: 25\n",
      "Sueldo bruto Semanal: L 1000\n",
      "Sueldo bruto Mensual: L 4000\n",
      "Deduccion RAP-FOSOVI 1.5% Semanal: L 15.0\n",
      "Deduccion RAP-FOSOVI 1.5% Mensual: L 60.0\n",
      "Deduccion sindicatos 1% Semanal: L 10.0\n",
      "Deduccion sindicatos 1% Mensual: L 40.0\n",
      "Salario Neto Semanal: L 975.0\n",
      "Salario Neto Mensual: L 3900.0\n"
     ]
    }
   ],
   "source": [
    "horas = int(input(\"Horas Trabajadas por semana: \"))\n",
    "pago = int(input(\"Pago x Hora: \"))\n",
    "salarioS = horas *pago\n",
    "salarioM = horas *pago*4\n",
    "dedRap = salarioS*0.015\n",
    "dedRapM = salarioS*0.015*4\n",
    "dedSinS = salarioS*0.01\n",
    "dedSinM = salarioS*0.01*4 \n",
    "print(\"Sueldo bruto Semanal: L\",salarioS)\n",
    "print(\"Sueldo bruto Mensual: L\",salarioM)\n",
    "print(\"Deduccion RAP-FOSOVI 1.5% Semanal: L\",dedRap)\n",
    "print(\"Deduccion RAP-FOSOVI 1.5% Mensual: L\",dedRapM)\n",
    "print(\"Deduccion sindicatos 1% Semanal: L\",dedSinS)\n",
    "print(\"Deduccion sindicatos 1% Mensual: L\",dedSinM)\n",
    "print(\"Salario Neto Semanal: L\",(salarioS-dedRap-dedSinS))\n",
    "print(\"Salario Neto Mensual: L\",(salarioM-dedRapM-dedSinM))\n"
   ]
  },
  {
   "cell_type": "markdown",
   "id": "bf88b9fa",
   "metadata": {},
   "source": [
    "Leer el numero de horas trabajadas a la semana por un empleado, y el pago por hora. Calcular el salario bruto, la deducción de RAP-FOSOVI consisten en el 1.5% del salario bruto, la deducción del sindicatos (equivale a un 1% de sueldo bruto) y el salario neto.\n"
   ]
  }
 ],
 "metadata": {
  "kernelspec": {
   "display_name": "Python 3 (ipykernel)",
   "language": "python",
   "name": "python3"
  },
  "language_info": {
   "codemirror_mode": {
    "name": "ipython",
    "version": 3
   },
   "file_extension": ".py",
   "mimetype": "text/x-python",
   "name": "python",
   "nbconvert_exporter": "python",
   "pygments_lexer": "ipython3",
   "version": "3.9.13"
  }
 },
 "nbformat": 4,
 "nbformat_minor": 5
}
