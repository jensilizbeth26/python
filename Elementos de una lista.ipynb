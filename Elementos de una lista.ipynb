{
 "cells": [
  {
   "cell_type": "markdown",
   "id": "01d2bc37-2151-4fc1-97fa-728088059b1f",
   "metadata": {},
   "source": [
    "Recorriendo los elementos de una lista utilizando While"
   ]
  },
  {
   "cell_type": "code",
   "execution_count": 3,
   "id": "7dd49005-cd67-4a40-bb5a-0cf526f6b7ea",
   "metadata": {},
   "outputs": [
    {
     "name": "stdout",
     "output_type": "stream",
     "text": [
      "1\n",
      "2\n",
      "3\n",
      "4\n",
      "5\n",
      "6\n",
      "7\n",
      "8\n",
      "9\n",
      "10\n"
     ]
    }
   ],
   "source": [
    "numeros= [1,2,3,4,5,6,7,8,9,10]\n",
    "indice =0\n",
    "while indice < len(numeros):\n",
    " print(numeros [indice])\n",
    " indice+=1"
   ]
  },
  {
   "cell_type": "markdown",
   "id": "8f6f1b42-55ce-4206-ae24-79842d7a3ae2",
   "metadata": {},
   "source": [
    "Sentencia For (Para) con listas"
   ]
  },
  {
   "cell_type": "code",
   "execution_count": 4,
   "id": "de1ab7cc-15db-4761-97f7-c2c9599ab9c3",
   "metadata": {},
   "outputs": [
    {
     "name": "stdout",
     "output_type": "stream",
     "text": [
      "1\n",
      "2\n",
      "3\n",
      "4\n",
      "5\n",
      "6\n",
      "7\n",
      "8\n",
      "9\n",
      "10\n"
     ]
    }
   ],
   "source": [
    "for numero in numeros: # Para [variable] en [lista]\n",
    " print(numero)"
   ]
  },
  {
   "cell_type": "markdown",
   "id": "67bc104b-16d3-4bdd-8af2-b161a2a74b6d",
   "metadata": {},
   "source": [
    "Modificar ítems de la lista al vuelo"
   ]
  },
  {
   "cell_type": "markdown",
   "id": "80729072-e8bb-4419-a5a9-e5d3bdecee29",
   "metadata": {},
   "source": [
    "Para asignar un nuevo valor a los elementos de una lista mientras la recorremos, podríamos intentar asignar al número el nuevo valor"
   ]
  },
  {
   "cell_type": "code",
   "execution_count": 6,
   "id": "d529fe48-e051-404a-be59-12cb9bddb161",
   "metadata": {},
   "outputs": [
    {
     "name": "stdout",
     "output_type": "stream",
     "text": [
      "10\n",
      "20\n",
      "30\n",
      "40\n",
      "50\n",
      "60\n",
      "70\n",
      "80\n",
      "90\n",
      "100\n",
      "[1, 2, 3, 4, 5, 6, 7, 8, 9, 10]\n"
     ]
    }
   ],
   "source": [
    "for numero in numeros:\n",
    "  numero *= 10\n",
    "  print(numero)\n",
    "print(numeros) "
   ]
  },
  {
   "cell_type": "code",
   "execution_count": 7,
   "id": "cfb4e3d0-7f4b-4b3b-8ca6-14f420d2e899",
   "metadata": {},
   "outputs": [
    {
     "data": {
      "text/plain": [
       "[1, 2, 3, 4, 5, 6, 7, 8, 9, 10]"
      ]
     },
     "execution_count": 7,
     "metadata": {},
     "output_type": "execute_result"
    }
   ],
   "source": [
    "numeros"
   ]
  },
  {
   "cell_type": "markdown",
   "id": "efe049dd-2775-4d9f-9b76-25d154a6f5e4",
   "metadata": {},
   "source": [
    "Sin embargo, ésto no funciona. La forma correcta de hacerlo es haciendo referencia al índice de la lista en lugar de la variable:"
   ]
  },
  {
   "cell_type": "code",
   "execution_count": 8,
   "id": "f0958e90-72da-4c9d-93c2-3bade1644e1b",
   "metadata": {},
   "outputs": [
    {
     "data": {
      "text/plain": [
       "[10, 20, 30, 40, 50, 60, 70, 80, 90, 100]"
      ]
     },
     "execution_count": 8,
     "metadata": {},
     "output_type": "execute_result"
    }
   ],
   "source": [
    "indice = 0\n",
    "numeros = [1, 2, 3, 4, 5, 6, 7, 8, 9, 10]\n",
    "for numero in numeros:\n",
    "  numeros[indice]*= 10\n",
    "  indice+=1\n",
    "numeros"
   ]
  },
  {
   "cell_type": "markdown",
   "id": "4c9bb88c-a8aa-4eb9-bd42-0878969e66e1",
   "metadata": {},
   "source": [
    "Podemos utilizar la función enumerate() para conseguir el índice y el valor en cada iteración fácilmente:"
   ]
  },
  {
   "cell_type": "code",
   "execution_count": 19,
   "id": "c7f15be5-09e3-400e-a048-bdc7f9ffdf27",
   "metadata": {},
   "outputs": [
    {
     "name": "stdout",
     "output_type": "stream",
     "text": [
      "[10, 20, 3, 4, 5, 6, 7, 8, 9, 10]\n"
     ]
    },
    {
     "ename": "IndexError",
     "evalue": "list index out of range",
     "output_type": "error",
     "traceback": [
      "\u001b[31m---------------------------------------------------------------------------\u001b[39m",
      "\u001b[31mIndexError\u001b[39m                                Traceback (most recent call last)",
      "\u001b[36mCell\u001b[39m\u001b[36m \u001b[39m\u001b[32mIn[19]\u001b[39m\u001b[32m, line 4\u001b[39m\n\u001b[32m      2\u001b[39m \u001b[38;5;28;01mfor\u001b[39;00m indice,numero \u001b[38;5;129;01min\u001b[39;00m \u001b[38;5;28menumerate\u001b[39m(numeros):\n\u001b[32m      3\u001b[39m     numeros[indice]*=\u001b[32m10\u001b[39m\n\u001b[32m----> \u001b[39m\u001b[32m4\u001b[39m     \u001b[43mnumeros\u001b[49m\u001b[43m[\u001b[49m\u001b[43mnumero\u001b[49m\u001b[43m]\u001b[49m*=\u001b[32m10\u001b[39m\n\u001b[32m      5\u001b[39m     \u001b[38;5;28mprint\u001b[39m(numeros)\n\u001b[32m      6\u001b[39m \u001b[38;5;66;03m#numeros\u001b[39;00m\n",
      "\u001b[31mIndexError\u001b[39m: list index out of range"
     ]
    }
   ],
   "source": [
    "numeros=[1, 2, 3, 4, 5, 6, 7, 8, 9, 10]\n",
    "for indice,numero in enumerate(numeros):\n",
    "    numeros[indice]*=10\n",
    "    numeros[numero]*=10\n",
    "    print(numeros)\n",
    "#numeros\n",
    "  "
   ]
  },
  {
   "cell_type": "markdown",
   "id": "1c7643e7-b841-4677-ba75-032d76190479",
   "metadata": {},
   "source": [
    "For con cadenas\n"
   ]
  },
  {
   "cell_type": "code",
   "execution_count": 20,
   "id": "11f0b355-93d9-47df-85a0-7d36aabc8e55",
   "metadata": {},
   "outputs": [
    {
     "name": "stdout",
     "output_type": "stream",
     "text": [
      "H\n",
      "o\n",
      "l\n",
      "a\n",
      " \n",
      "a\n",
      "m\n",
      "i\n",
      "g\n",
      "o\n",
      "s\n"
     ]
    }
   ],
   "source": [
    "cadena = \"Hola amigos\"\n",
    "for caracter in cadena:\n",
    " print(caracter)\n"
   ]
  },
  {
   "cell_type": "markdown",
   "id": "f0306549-f639-4dc4-9c5c-896327cf1b58",
   "metadata": {},
   "source": [
    "Pero debemos recordar que las cadenas son inmutables:"
   ]
  },
  {
   "cell_type": "code",
   "execution_count": 22,
   "id": "85b059a9-fd62-4d42-94a9-3554803697c8",
   "metadata": {},
   "outputs": [
    {
     "ename": "IndentationError",
     "evalue": "expected an indented block after 'for' statement on line 1 (225122847.py, line 2)",
     "output_type": "error",
     "traceback": [
      "  \u001b[36mCell\u001b[39m\u001b[36m \u001b[39m\u001b[32mIn[22]\u001b[39m\u001b[32m, line 2\u001b[39m\n\u001b[31m    \u001b[39m\u001b[31mcadena[i] =\"*\"\u001b[39m\n    ^\n\u001b[31mIndentationError\u001b[39m\u001b[31m:\u001b[39m expected an indented block after 'for' statement on line 1\n"
     ]
    }
   ],
   "source": [
    "for i,c in enumerate(cadena):\n",
    "cadena[i] =\"*\""
   ]
  },
  {
   "cell_type": "markdown",
   "id": "35642c44-bf94-421f-8557-885b66b83ac7",
   "metadata": {},
   "source": [
    "Sin embargo siempre podemos generar una nueva cadena:"
   ]
  },
  {
   "cell_type": "code",
   "execution_count": 24,
   "id": "8bc1ca42-c429-4533-9463-9e1bf5e357ec",
   "metadata": {},
   "outputs": [],
   "source": [
    "cadena2 =\"\"\n",
    "for caracter in cadena:\n",
    "  cadena2 += caracter * 2"
   ]
  },
  {
   "cell_type": "code",
   "execution_count": 25,
   "id": "48add544-8767-4137-8d4e-44bae03bff22",
   "metadata": {},
   "outputs": [
    {
     "data": {
      "text/plain": [
       "'Hola amigos'"
      ]
     },
     "execution_count": 25,
     "metadata": {},
     "output_type": "execute_result"
    }
   ],
   "source": [
    "cadena"
   ]
  },
  {
   "cell_type": "code",
   "execution_count": 26,
   "id": "1e5e49b5-192d-4303-8d0a-eb589a8e4ddf",
   "metadata": {},
   "outputs": [
    {
     "data": {
      "text/plain": [
       "'HHoollaa  aammiiggooss'"
      ]
     },
     "execution_count": 26,
     "metadata": {},
     "output_type": "execute_result"
    }
   ],
   "source": [
    "cadena2"
   ]
  },
  {
   "cell_type": "markdown",
   "id": "b4b62a16-7638-4275-b03e-1d4e54f81dc4",
   "metadata": {},
   "source": [
    "La función range()"
   ]
  },
  {
   "cell_type": "markdown",
   "id": "bb409857-53e8-4612-aa2c-d199c9e0b5ad",
   "metadata": {},
   "source": [
    "Sirve para generar una lista de números que podemos recorrer fácilmente, pero no ocupa memoria porque se interpreta sobre la marcha:"
   ]
  },
  {
   "cell_type": "code",
   "execution_count": 27,
   "id": "1739b187-a9ca-4df9-88b0-deb376220d95",
   "metadata": {},
   "outputs": [
    {
     "name": "stdout",
     "output_type": "stream",
     "text": [
      "0\n",
      "1\n",
      "2\n",
      "3\n",
      "4\n",
      "5\n",
      "6\n",
      "7\n",
      "8\n",
      "9\n"
     ]
    }
   ],
   "source": [
    "for i in range(10):\n",
    "  print(i)"
   ]
  },
  {
   "cell_type": "code",
   "execution_count": 28,
   "id": "0aee8c25-0ff0-47b2-9b9b-8f53a7bd0766",
   "metadata": {},
   "outputs": [
    {
     "data": {
      "text/plain": [
       "range(0, 10)"
      ]
     },
     "execution_count": 28,
     "metadata": {},
     "output_type": "execute_result"
    }
   ],
   "source": [
    "range(10)"
   ]
  },
  {
   "cell_type": "code",
   "execution_count": 29,
   "id": "1e47e61d-0c2a-47e1-80b2-0ace2faa4aa6",
   "metadata": {},
   "outputs": [
    {
     "name": "stdout",
     "output_type": "stream",
     "text": [
      "0\n",
      "1\n",
      "2\n",
      "3\n",
      "4\n",
      "5\n",
      "6\n",
      "7\n",
      "9\n"
     ]
    }
   ],
   "source": [
    "for i in [0,1,2,3,4,5,6,7,9]:\n",
    "  print(i)"
   ]
  },
  {
   "cell_type": "markdown",
   "id": "03d0a0f4-a810-4f81-9fe5-6304ec35f226",
   "metadata": {},
   "source": [
    "Si queremos conseguir la lista literal podemos transformar el range a una lista:"
   ]
  },
  {
   "cell_type": "code",
   "execution_count": 30,
   "id": "73a05858-acb4-4afd-8e6e-12e36be58c57",
   "metadata": {},
   "outputs": [
    {
     "data": {
      "text/plain": [
       "[0, 1, 2, 3, 4, 5, 6, 7, 8, 9]"
      ]
     },
     "execution_count": 30,
     "metadata": {},
     "output_type": "execute_result"
    }
   ],
   "source": [
    "list(range (10))"
   ]
  },
  {
   "cell_type": "code",
   "execution_count": null,
   "id": "92d91315-ef26-4e72-b932-8fda9bf75d0a",
   "metadata": {},
   "outputs": [],
   "source": []
  }
 ],
 "metadata": {
  "kernelspec": {
   "display_name": "Python 3 (ipykernel)",
   "language": "python",
   "name": "python3"
  },
  "language_info": {
   "codemirror_mode": {
    "name": "ipython",
    "version": 3
   },
   "file_extension": ".py",
   "mimetype": "text/x-python",
   "name": "python",
   "nbconvert_exporter": "python",
   "pygments_lexer": "ipython3",
   "version": "3.13.2"
  }
 },
 "nbformat": 4,
 "nbformat_minor": 5
}
