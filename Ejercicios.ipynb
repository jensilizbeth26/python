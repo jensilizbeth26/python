{
 "cells": [
  {
   "cell_type": "markdown",
   "id": "2b919cc5",
   "metadata": {},
   "source": [
    "Los surtidores de una gasolinera registran lo que surten en\n",
    "galones, pero el precio de la gasolina esta fijo en litros.\n",
    "Calcular e imprimir lo que hay que cobrarle al cliente."
   ]
  },
  {
   "cell_type": "code",
   "execution_count": null,
   "id": "def29975",
   "metadata": {},
   "outputs": [],
   "source": [
    "litro = float(input(\"Ingrese la cantidad de litros a comprar: \"))\n",
    "precl = float(input(\"Ingrese el precio X litros: \"))\n",
    "Total_a_pagar = (litro/3.25)*(precl/3.25)\n",
    "print(\"El Total a Pagar es: L \",'{0:.2f}'.format(Total_a_pagar))\n"
   ]
  },
  {
   "cell_type": "code",
   "execution_count": null,
   "id": "98c39fde",
   "metadata": {},
   "outputs": [],
   "source": [
    "km =float(input(\"ingrese los kilometros que va a recorrer\"))\n",
    "gasolina = float(input(\"ingrese el precio de gasolina por galon\"))\n",
    "\n",
    "galones = km/5\n",
    "gasto= galones*gasolina\n",
    "\n",
    "print (\"Usted va a gastar por recorrer \",km,\"en galones \")"
   ]
  }
 ],
 "metadata": {
  "kernelspec": {
   "display_name": "Python 3 (ipykernel)",
   "language": "python",
   "name": "python3"
  },
  "language_info": {
   "codemirror_mode": {
    "name": "ipython",
    "version": 3
   },
   "file_extension": ".py",
   "mimetype": "text/x-python",
   "name": "python",
   "nbconvert_exporter": "python",
   "pygments_lexer": "ipython3",
   "version": "3.9.13"
  }
 },
 "nbformat": 4,
 "nbformat_minor": 5
}
